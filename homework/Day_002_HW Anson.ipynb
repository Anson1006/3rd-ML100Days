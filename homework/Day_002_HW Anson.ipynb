{
 "cells": [
  {
   "cell_type": "markdown",
   "metadata": {},
   "source": [
    "## [作業目標]\n",
    "了解機器學習適合應用的領域與範疇。"
   ]
  },
  {
   "cell_type": "markdown",
   "metadata": {},
   "source": [
    "## [作業重點]\n",
    "透過瞭解機器學習的運作方式，找出非常適用機器學習應用的領域及其原因"
   ]
  },
  {
   "cell_type": "markdown",
   "metadata": {},
   "source": [
    "## 作業\n",
    "請找出一個你認為機器學習可以發光發熱的領域並闡述原因? "
   ]
  },
  {
   "cell_type": "code",
   "execution_count": null,
   "metadata": {},
   "outputs": [],
   "source": [
    "    #\"\"\"\n",
    "    機器學習目前雖然對重複性高、目標明確的問題，多半都能發揮的不錯，如工廠的作業、銀行服務等，但真正能讓機器學習發揮價值的\n",
    "    地方，在於是否能取代人類做決策，目前機器很難學習到語言中的雙關或反諷這些難以數字量化的概念而自然語言處理就在於讓電腦理解、或是運用人類語言。未來可應用於偏鄉健康照護服務，提供從家庭生活到醫院診所的健康照護管理與諮詢的AI語音服務，\n",
    "    一方面是為了讓使用者得到更完善的健康照護，另外一方面則是為了解決目前醫院診所人力短缺問題，並減輕醫生與看謢人員的壓力或是商用與公共場域\n",
    "    導入智慧零售相關之無人商店、智慧販賣機、貨架、自動結帳機等，並取代金融服務、交通運輸之客服，以及這些場域中會運用到的3D感測、自走車、服務型機器人等。\n",
    "    在與人類多元且大量的互動之下，將促使AI語音助理技術更為成熟。\n",
    "    \"\""
   ]
  }
 ],
 "metadata": {
  "kernelspec": {
   "display_name": "Python 3",
   "language": "python",
   "name": "python3"
  },
  "language_info": {
   "codemirror_mode": {
    "name": "ipython",
    "version": 3
   },
   "file_extension": ".py",
   "mimetype": "text/x-python",
   "name": "python",
   "nbconvert_exporter": "python",
   "pygments_lexer": "ipython3",
   "version": "3.6.5"
  }
 },
 "nbformat": 4,
 "nbformat_minor": 2
}
